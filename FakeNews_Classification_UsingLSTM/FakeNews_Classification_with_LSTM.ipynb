{
  "cells": [
    {
      "cell_type": "code",
      "execution_count": null,
      "id": "0701a181",
      "metadata": {
        "id": "0701a181"
      },
      "outputs": [],
      "source": [
        "import pandas as pd\n",
        "import numpy as np\n",
        "import nltk\n",
        "import tensorflow as tf\n",
        "from tensorflow.keras.layers import Embedding\n",
        "from tensorflow.keras.preprocessing.sequence import pad_sequences\n",
        "from tensorflow.keras.layers import LSTM,Dense,Dropout\n",
        "from tensorflow.keras.preprocessing.text import one_hot\n",
        "from tensorflow.keras.models import Sequential\n",
        "import re\n",
        "from nltk.corpus import stopwords\n",
        "from nltk.stem.porter import PorterStemmer\n",
        "from sklearn.model_selection import train_test_split\n",
        "from sklearn.metrics import accuracy_score, confusion_matrix"
      ]
    },
    {
      "cell_type": "code",
      "execution_count": null,
      "id": "4798658d",
      "metadata": {
        "id": "4798658d",
        "outputId": "a79bcd08-aeea-4e02-8661-c273fc702098"
      },
      "outputs": [
        {
          "data": {
            "text/html": [
              "<div>\n",
              "<style scoped>\n",
              "    .dataframe tbody tr th:only-of-type {\n",
              "        vertical-align: middle;\n",
              "    }\n",
              "\n",
              "    .dataframe tbody tr th {\n",
              "        vertical-align: top;\n",
              "    }\n",
              "\n",
              "    .dataframe thead th {\n",
              "        text-align: right;\n",
              "    }\n",
              "</style>\n",
              "<table border=\"1\" class=\"dataframe\">\n",
              "  <thead>\n",
              "    <tr style=\"text-align: right;\">\n",
              "      <th></th>\n",
              "      <th>id</th>\n",
              "      <th>title</th>\n",
              "      <th>author</th>\n",
              "      <th>text</th>\n",
              "      <th>label</th>\n",
              "    </tr>\n",
              "  </thead>\n",
              "  <tbody>\n",
              "    <tr>\n",
              "      <th>0</th>\n",
              "      <td>0</td>\n",
              "      <td>House Dem Aide: We Didn’t Even See Comey’s Let...</td>\n",
              "      <td>Darrell Lucus</td>\n",
              "      <td>House Dem Aide: We Didn’t Even See Comey’s Let...</td>\n",
              "      <td>1</td>\n",
              "    </tr>\n",
              "    <tr>\n",
              "      <th>1</th>\n",
              "      <td>1</td>\n",
              "      <td>FLYNN: Hillary Clinton, Big Woman on Campus - ...</td>\n",
              "      <td>Daniel J. Flynn</td>\n",
              "      <td>Ever get the feeling your life circles the rou...</td>\n",
              "      <td>0</td>\n",
              "    </tr>\n",
              "    <tr>\n",
              "      <th>2</th>\n",
              "      <td>2</td>\n",
              "      <td>Why the Truth Might Get You Fired</td>\n",
              "      <td>Consortiumnews.com</td>\n",
              "      <td>Why the Truth Might Get You Fired October 29, ...</td>\n",
              "      <td>1</td>\n",
              "    </tr>\n",
              "    <tr>\n",
              "      <th>3</th>\n",
              "      <td>3</td>\n",
              "      <td>15 Civilians Killed In Single US Airstrike Hav...</td>\n",
              "      <td>Jessica Purkiss</td>\n",
              "      <td>Videos 15 Civilians Killed In Single US Airstr...</td>\n",
              "      <td>1</td>\n",
              "    </tr>\n",
              "    <tr>\n",
              "      <th>4</th>\n",
              "      <td>4</td>\n",
              "      <td>Iranian woman jailed for fictional unpublished...</td>\n",
              "      <td>Howard Portnoy</td>\n",
              "      <td>Print \\nAn Iranian woman has been sentenced to...</td>\n",
              "      <td>1</td>\n",
              "    </tr>\n",
              "  </tbody>\n",
              "</table>\n",
              "</div>"
            ],
            "text/plain": [
              "   id  ... label\n",
              "0   0  ...     1\n",
              "1   1  ...     0\n",
              "2   2  ...     1\n",
              "3   3  ...     1\n",
              "4   4  ...     1\n",
              "\n",
              "[5 rows x 5 columns]"
            ]
          },
          "execution_count": 5,
          "metadata": {},
          "output_type": "execute_result"
        }
      ],
      "source": [
        "df=pd.read_csv(\"train.csv\")\n",
        "df.head()"
      ]
    },
    {
      "cell_type": "code",
      "execution_count": null,
      "id": "c4452a21",
      "metadata": {
        "id": "c4452a21",
        "outputId": "893ef372-83b3-439e-9bce-58122dba727e"
      },
      "outputs": [
        {
          "data": {
            "text/plain": [
              "id           0\n",
              "title      558\n",
              "author    1957\n",
              "text        39\n",
              "label        0\n",
              "dtype: int64"
            ]
          },
          "execution_count": 6,
          "metadata": {},
          "output_type": "execute_result"
        }
      ],
      "source": [
        "df.isnull().sum()"
      ]
    },
    {
      "cell_type": "code",
      "execution_count": null,
      "id": "496e1e40",
      "metadata": {
        "id": "496e1e40"
      },
      "outputs": [],
      "source": [
        "df=df.dropna()"
      ]
    },
    {
      "cell_type": "code",
      "execution_count": null,
      "id": "34ac1835",
      "metadata": {
        "id": "34ac1835",
        "outputId": "ab3b9ab5-909d-4a35-c51e-8be13bbacc18"
      },
      "outputs": [
        {
          "name": "stdout",
          "output_type": "stream",
          "text": [
            "(18285, 4)\n",
            "(18285,)\n"
          ]
        }
      ],
      "source": [
        "y=df['label']\n",
        "X=df.drop('label',axis=1)\n",
        "print(X.shape)\n",
        "print(y.shape)"
      ]
    },
    {
      "cell_type": "code",
      "execution_count": null,
      "id": "2a4c9885",
      "metadata": {
        "id": "2a4c9885",
        "outputId": "30fbd9a8-225b-4e0c-cb9f-efff1eac85bf"
      },
      "outputs": [
        {
          "data": {
            "text/plain": [
              "'FLYNN: Hillary Clinton, Big Woman on Campus - Breitbart'"
            ]
          },
          "execution_count": 10,
          "metadata": {},
          "output_type": "execute_result"
        }
      ],
      "source": [
        "messages=X.copy()\n",
        "messages['title'][1]"
      ]
    },
    {
      "cell_type": "code",
      "execution_count": null,
      "id": "ac07dbae",
      "metadata": {
        "id": "ac07dbae"
      },
      "outputs": [],
      "source": [
        "messages.reset_index(inplace=True)"
      ]
    },
    {
      "cell_type": "code",
      "execution_count": null,
      "id": "3a7e4c2f",
      "metadata": {
        "id": "3a7e4c2f"
      },
      "outputs": [],
      "source": [
        "ps = PorterStemmer()\n",
        "corpus = []\n",
        "for i in range(0, len(messages)):\n",
        "    print(i)\n",
        "    review = re.sub('[^a-zA-Z]', ' ', messages['title'][i])\n",
        "    review = review.lower()\n",
        "    review = review.split()\n",
        "    \n",
        "    review = [ps.stem(word) for word in review if not word in stopwords.words('english')]\n",
        "    review = ' '.join(review)\n",
        "    corpus.append(review)"
      ]
    },
    {
      "cell_type": "code",
      "execution_count": null,
      "id": "88dc6955",
      "metadata": {
        "id": "88dc6955"
      },
      "outputs": [],
      "source": [
        "corpus"
      ]
    },
    {
      "cell_type": "code",
      "execution_count": null,
      "id": "87204d29",
      "metadata": {
        "id": "87204d29"
      },
      "outputs": [],
      "source": [
        "voc_size=5000\n",
        "onehot_rep=[one_hot(words,voc_size) for words in corpus ]\n",
        "onehot_rep"
      ]
    },
    {
      "cell_type": "code",
      "execution_count": null,
      "id": "171c5e6a",
      "metadata": {
        "id": "171c5e6a",
        "outputId": "a05f0a07-1341-4c2d-850d-ddb772ff862c"
      },
      "outputs": [
        {
          "data": {
            "text/plain": [
              "array([[   0,    0,    0, ..., 4668, 4829, 1978],\n",
              "       [   0,    0,    0, ..., 2131,  539, 4985],\n",
              "       [   0,    0,    0, ...,  122, 4009,  846],\n",
              "       ...,\n",
              "       [   0,    0,    0, ..., 1223,  517, 4265],\n",
              "       [   0,    0,    0, ...,  839, 1888, 1412],\n",
              "       [   0,    0,    0, ...,  331, 3703, 2511]])"
            ]
          },
          "execution_count": 16,
          "metadata": {},
          "output_type": "execute_result"
        }
      ],
      "source": [
        "sent_length=20\n",
        "embedded_docs=pad_sequences(onehot_rep,padding='pre',maxlen=sent_length)\n",
        "embedded_docs"
      ]
    },
    {
      "cell_type": "code",
      "execution_count": null,
      "id": "cc6e7938",
      "metadata": {
        "id": "cc6e7938",
        "outputId": "5f3fdfe5-2a38-4525-9498-49b6f9c56082"
      },
      "outputs": [
        {
          "data": {
            "text/plain": [
              "array([   0,    0,    0,    0,    0,    0,    0,    0,    0,    0, 4996,\n",
              "       3682, 2874, 4070, 1847, 3359, 2359, 4668, 4829, 1978])"
            ]
          },
          "execution_count": 17,
          "metadata": {},
          "output_type": "execute_result"
        }
      ],
      "source": [
        "embedded_docs[0]"
      ]
    },
    {
      "cell_type": "code",
      "execution_count": null,
      "id": "147a925b",
      "metadata": {
        "id": "147a925b"
      },
      "outputs": [],
      "source": [
        "X_final=np.array(embedded_docs)\n",
        "y_final=np.array(y)\n",
        "X_train, X_test, y_train, y_test = train_test_split(X_final, y_final, test_size=0.33, random_state=42)"
      ]
    },
    {
      "cell_type": "code",
      "execution_count": null,
      "id": "475bd37f",
      "metadata": {
        "id": "475bd37f"
      },
      "outputs": [],
      "source": [
        "embedding_vector_features=40\n",
        "model=Sequential()\n",
        "model.add(Embedding(voc_size,embedding_vector_features,input_length=sent_length))\n",
        "model.add(Dropout(0.5))\n",
        "model.add(LSTM(100))\n",
        "model.add(Dropout(0.5))\n",
        "model.add(Dense(1,activation='sigmoid'))\n",
        "model.compile(loss='binary_crossentropy',optimizer='adam',metrics=['accuracy'])"
      ]
    },
    {
      "cell_type": "code",
      "execution_count": null,
      "id": "f0abc7c2",
      "metadata": {
        "id": "f0abc7c2",
        "outputId": "d3a69d64-8a20-4989-8701-394fb9b9bf3d"
      },
      "outputs": [
        {
          "name": "stdout",
          "output_type": "stream",
          "text": [
            "Epoch 1/30\n",
            "192/192 [==============================] - 4s 12ms/step - loss: 0.3514 - accuracy: 0.8362 - val_loss: 0.2111 - val_accuracy: 0.9097\n",
            "Epoch 2/30\n",
            "192/192 [==============================] - 2s 10ms/step - loss: 0.1642 - accuracy: 0.9343 - val_loss: 0.1923 - val_accuracy: 0.9183\n",
            "Epoch 3/30\n",
            "192/192 [==============================] - 2s 10ms/step - loss: 0.1263 - accuracy: 0.9537 - val_loss: 0.2003 - val_accuracy: 0.9181\n",
            "Epoch 4/30\n",
            "192/192 [==============================] - 2s 10ms/step - loss: 0.1023 - accuracy: 0.9617 - val_loss: 0.2196 - val_accuracy: 0.9142\n",
            "Epoch 5/30\n",
            "192/192 [==============================] - 2s 10ms/step - loss: 0.0835 - accuracy: 0.9696 - val_loss: 0.2282 - val_accuracy: 0.9102\n",
            "Epoch 6/30\n",
            "192/192 [==============================] - 2s 10ms/step - loss: 0.0708 - accuracy: 0.9749 - val_loss: 0.2529 - val_accuracy: 0.9120\n",
            "Epoch 7/30\n",
            "192/192 [==============================] - 2s 9ms/step - loss: 0.0541 - accuracy: 0.9823 - val_loss: 0.2935 - val_accuracy: 0.9162\n",
            "Epoch 8/30\n",
            "192/192 [==============================] - 2s 9ms/step - loss: 0.0511 - accuracy: 0.9811 - val_loss: 0.2723 - val_accuracy: 0.9097\n",
            "Epoch 9/30\n",
            "192/192 [==============================] - 2s 9ms/step - loss: 0.0400 - accuracy: 0.9858 - val_loss: 0.3287 - val_accuracy: 0.9097\n",
            "Epoch 10/30\n",
            "192/192 [==============================] - 2s 9ms/step - loss: 0.0343 - accuracy: 0.9878 - val_loss: 0.3669 - val_accuracy: 0.9140\n",
            "Epoch 11/30\n",
            "192/192 [==============================] - 2s 9ms/step - loss: 0.0352 - accuracy: 0.9887 - val_loss: 0.3824 - val_accuracy: 0.9041\n",
            "Epoch 12/30\n",
            "192/192 [==============================] - 2s 10ms/step - loss: 0.0272 - accuracy: 0.9903 - val_loss: 0.3657 - val_accuracy: 0.9077\n",
            "Epoch 13/30\n",
            "192/192 [==============================] - 2s 9ms/step - loss: 0.0231 - accuracy: 0.9918 - val_loss: 0.4368 - val_accuracy: 0.9168\n",
            "Epoch 14/30\n",
            "192/192 [==============================] - 2s 9ms/step - loss: 0.0238 - accuracy: 0.9926 - val_loss: 0.4752 - val_accuracy: 0.9089\n",
            "Epoch 15/30\n",
            "192/192 [==============================] - 2s 9ms/step - loss: 0.0220 - accuracy: 0.9924 - val_loss: 0.4554 - val_accuracy: 0.9042\n",
            "Epoch 16/30\n",
            "192/192 [==============================] - 2s 10ms/step - loss: 0.0209 - accuracy: 0.9923 - val_loss: 0.4087 - val_accuracy: 0.9057\n",
            "Epoch 17/30\n",
            "192/192 [==============================] - 2s 10ms/step - loss: 0.0171 - accuracy: 0.9938 - val_loss: 0.4504 - val_accuracy: 0.9082\n",
            "Epoch 18/30\n",
            "192/192 [==============================] - 2s 9ms/step - loss: 0.0173 - accuracy: 0.9942 - val_loss: 0.4271 - val_accuracy: 0.9102\n",
            "Epoch 19/30\n",
            "192/192 [==============================] - 2s 10ms/step - loss: 0.0152 - accuracy: 0.9949 - val_loss: 0.4615 - val_accuracy: 0.9089\n",
            "Epoch 20/30\n",
            "192/192 [==============================] - 2s 9ms/step - loss: 0.0150 - accuracy: 0.9947 - val_loss: 0.5002 - val_accuracy: 0.9140\n",
            "Epoch 21/30\n",
            "192/192 [==============================] - 2s 10ms/step - loss: 0.0113 - accuracy: 0.9959 - val_loss: 0.5416 - val_accuracy: 0.9127\n",
            "Epoch 22/30\n",
            "192/192 [==============================] - 2s 10ms/step - loss: 0.0124 - accuracy: 0.9958 - val_loss: 0.5704 - val_accuracy: 0.9095\n",
            "Epoch 23/30\n",
            "192/192 [==============================] - 2s 9ms/step - loss: 0.0135 - accuracy: 0.9958 - val_loss: 0.5477 - val_accuracy: 0.9094\n",
            "Epoch 24/30\n",
            "192/192 [==============================] - 2s 9ms/step - loss: 0.0117 - accuracy: 0.9958 - val_loss: 0.5155 - val_accuracy: 0.9097\n",
            "Epoch 25/30\n",
            "192/192 [==============================] - 2s 9ms/step - loss: 0.0126 - accuracy: 0.9955 - val_loss: 0.5845 - val_accuracy: 0.9095\n",
            "Epoch 26/30\n",
            "192/192 [==============================] - 2s 9ms/step - loss: 0.0117 - accuracy: 0.9952 - val_loss: 0.5455 - val_accuracy: 0.9079\n",
            "Epoch 27/30\n",
            "192/192 [==============================] - 2s 9ms/step - loss: 0.0085 - accuracy: 0.9972 - val_loss: 0.6545 - val_accuracy: 0.9147\n",
            "Epoch 28/30\n",
            "192/192 [==============================] - 2s 9ms/step - loss: 0.0102 - accuracy: 0.9966 - val_loss: 0.5464 - val_accuracy: 0.9147\n",
            "Epoch 29/30\n",
            "192/192 [==============================] - 2s 9ms/step - loss: 0.0111 - accuracy: 0.9958 - val_loss: 0.5693 - val_accuracy: 0.9085\n",
            "Epoch 30/30\n",
            "192/192 [==============================] - 2s 9ms/step - loss: 0.0083 - accuracy: 0.9974 - val_loss: 0.6271 - val_accuracy: 0.9112\n"
          ]
        },
        {
          "data": {
            "text/plain": [
              "<keras.callbacks.History at 0x13ba265ffa0>"
            ]
          },
          "execution_count": 31,
          "metadata": {},
          "output_type": "execute_result"
        }
      ],
      "source": [
        "model.fit(X_train,y_train,validation_data=(X_test,y_test),epochs=30,batch_size=64)"
      ]
    },
    {
      "cell_type": "code",
      "execution_count": null,
      "id": "19208ac2",
      "metadata": {
        "id": "19208ac2",
        "outputId": "45861e25-0bce-4f3d-ccf1-3fdc3523dd06"
      },
      "outputs": [
        {
          "name": "stdout",
          "output_type": "stream",
          "text": [
            "189/189 [==============================] - 0s 2ms/step\n"
          ]
        }
      ],
      "source": [
        "y_pred=model.predict(X_test)\n"
      ]
    },
    {
      "cell_type": "code",
      "execution_count": null,
      "id": "9a441de2",
      "metadata": {
        "id": "9a441de2",
        "outputId": "c69b716d-d6d0-4069-b630-fc2ecc162721"
      },
      "outputs": [
        {
          "data": {
            "text/plain": [
              "array([[3102,  317],\n",
              "       [ 219, 2397]], dtype=int64)"
            ]
          },
          "execution_count": 45,
          "metadata": {},
          "output_type": "execute_result"
        }
      ],
      "source": [
        "confusion_matrix(y_test,y_pred.round())"
      ]
    },
    {
      "cell_type": "code",
      "execution_count": null,
      "id": "e4de654c",
      "metadata": {
        "id": "e4de654c",
        "outputId": "3d824886-7ffe-48f1-9113-373265731bac"
      },
      "outputs": [
        {
          "data": {
            "text/plain": [
              "0.9111847555923778"
            ]
          },
          "execution_count": 46,
          "metadata": {},
          "output_type": "execute_result"
        }
      ],
      "source": [
        "accuracy_score(y_test,y_pred.round())"
      ]
    }
  ],
  "metadata": {
    "kernelspec": {
      "display_name": "Python 3 (ipykernel)",
      "language": "python",
      "name": "python3"
    },
    "language_info": {
      "codemirror_mode": {
        "name": "ipython",
        "version": 3
      },
      "file_extension": ".py",
      "mimetype": "text/x-python",
      "name": "python",
      "nbconvert_exporter": "python",
      "pygments_lexer": "ipython3",
      "version": "3.9.12"
    },
    "colab": {
      "provenance": []
    }
  },
  "nbformat": 4,
  "nbformat_minor": 5
}